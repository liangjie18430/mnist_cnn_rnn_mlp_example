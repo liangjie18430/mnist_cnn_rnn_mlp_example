{
 "cells": [
  {
   "cell_type": "code",
   "execution_count": 1,
   "metadata": {},
   "outputs": [
    {
     "name": "stderr",
     "output_type": "stream",
     "text": [
      "/root/anaconda3/lib/python3.6/site-packages/h5py/__init__.py:36: FutureWarning: Conversion of the second argument of issubdtype from `float` to `np.floating` is deprecated. In future, it will be treated as `np.float64 == np.dtype(float).type`.\n",
      "  from ._conv import register_converters as _register_converters\n"
     ]
    },
    {
     "name": "stdout",
     "output_type": "stream",
     "text": [
      "WARNING:tensorflow:From <ipython-input-1-b3ebb55705d7>:5: read_data_sets (from tensorflow.contrib.learn.python.learn.datasets.mnist) is deprecated and will be removed in a future version.\n",
      "Instructions for updating:\n",
      "Please use alternatives such as official/mnist/dataset.py from tensorflow/models.\n",
      "WARNING:tensorflow:From /root/anaconda3/lib/python3.6/site-packages/tensorflow/contrib/learn/python/learn/datasets/mnist.py:260: maybe_download (from tensorflow.contrib.learn.python.learn.datasets.base) is deprecated and will be removed in a future version.\n",
      "Instructions for updating:\n",
      "Please write your own downloading logic.\n",
      "WARNING:tensorflow:From /root/anaconda3/lib/python3.6/site-packages/tensorflow/contrib/learn/python/learn/datasets/mnist.py:262: extract_images (from tensorflow.contrib.learn.python.learn.datasets.mnist) is deprecated and will be removed in a future version.\n",
      "Instructions for updating:\n",
      "Please use tf.data to implement this functionality.\n",
      "Extracting MNIST_data/train-images-idx3-ubyte.gz\n",
      "WARNING:tensorflow:From /root/anaconda3/lib/python3.6/site-packages/tensorflow/contrib/learn/python/learn/datasets/mnist.py:267: extract_labels (from tensorflow.contrib.learn.python.learn.datasets.mnist) is deprecated and will be removed in a future version.\n",
      "Instructions for updating:\n",
      "Please use tf.data to implement this functionality.\n",
      "Extracting MNIST_data/train-labels-idx1-ubyte.gz\n",
      "WARNING:tensorflow:From /root/anaconda3/lib/python3.6/site-packages/tensorflow/contrib/learn/python/learn/datasets/mnist.py:110: dense_to_one_hot (from tensorflow.contrib.learn.python.learn.datasets.mnist) is deprecated and will be removed in a future version.\n",
      "Instructions for updating:\n",
      "Please use tf.one_hot on tensors.\n",
      "Extracting MNIST_data/t10k-images-idx3-ubyte.gz\n",
      "Extracting MNIST_data/t10k-labels-idx1-ubyte.gz\n",
      "WARNING:tensorflow:From /root/anaconda3/lib/python3.6/site-packages/tensorflow/contrib/learn/python/learn/datasets/mnist.py:290: DataSet.__init__ (from tensorflow.contrib.learn.python.learn.datasets.mnist) is deprecated and will be removed in a future version.\n",
      "Instructions for updating:\n",
      "Please use alternatives such as official/mnist/dataset.py from tensorflow/models.\n"
     ]
    }
   ],
   "source": [
    "from __future__ import print_function\n",
    "\n",
    "from tensorflow.examples.tutorials.mnist import input_data\n",
    "\n",
    "mnist = input_data.read_data_sets(\"MNIST_data/\", one_hot=True)\n",
    "import tensorflow as tf\n",
    "import numpy as np\n",
    "sess = tf.Session()"
   ]
  },
  {
   "cell_type": "code",
   "execution_count": 2,
   "metadata": {},
   "outputs": [],
   "source": [
    "#todo 需要将每个图片，处理成28*28的相关的图片\n",
    "resize_result = np.resize(mnist.train.images[0],new_shape=[28,28])"
   ]
  },
  {
   "cell_type": "code",
   "execution_count": 3,
   "metadata": {},
   "outputs": [
    {
     "data": {
      "text/plain": [
       "(28, 28)"
      ]
     },
     "execution_count": 3,
     "metadata": {},
     "output_type": "execute_result"
    }
   ],
   "source": [
    "resize_result.shape"
   ]
  },
  {
   "cell_type": "code",
   "execution_count": 4,
   "metadata": {},
   "outputs": [
    {
     "name": "stdout",
     "output_type": "stream",
     "text": [
      "var1.shape: Tensor(\"Shape:0\", shape=(2,), dtype=int32)\n",
      "var2.shape: Tensor(\"Shape_1:0\", shape=(3,), dtype=int32)\n",
      "[28 28]\n",
      "[28 28  1]\n"
     ]
    }
   ],
   "source": [
    "# 尝试将对应的shape扩充一个维度\n",
    "var1 = tf.Variable(initial_value=resize_result,dtype=tf.float32)\n",
    "var2 = tf.expand_dims(input=var1,axis=2)\n",
    "# 只输出了shape的长度\n",
    "print(\"var1.shape:\",tf.shape(var1))\n",
    "print(\"var2.shape:\",tf.shape(var2))\n",
    "# 输出shape的具体的值\n",
    "init = tf.global_variables_initializer()\n",
    "sess.run(init)\n",
    "print(sess.run(tf.shape(var1)))\n",
    "print(sess.run(tf.shape(var2)))"
   ]
  },
  {
   "cell_type": "code",
   "execution_count": 5,
   "metadata": {},
   "outputs": [],
   "source": [
    "# 定义输入的placeholder\n",
    "x = tf.placeholder(shape=[None,28,28,1],dtype=tf.float32)\n",
    "y_true =tf.placeholder(shape=[None,10],dtype=tf.float32)"
   ]
  },
  {
   "cell_type": "code",
   "execution_count": 6,
   "metadata": {},
   "outputs": [],
   "source": [
    "# 定义stripe的shape，第一个和最后一个必须为1\n",
    "stride_shape1=[1,2,2,1]\n",
    "# 定义卷积神经网络\n",
    "# 创建卷积核,设置5个卷积核\n",
    "#conv_kernel = tf.Variable(dtype=shape=[3,3,1,5])\n",
    "with tf.variable_scope(\"layer1\",reuse=tf.AUTO_REUSE):\n",
    "    conv_kernel1 = tf.get_variable(name=\"conv1\",shape=[3,3,1,64],dtype=tf.float32,initializer=tf.contrib.layers.xavier_initializer_conv2d())\n",
    "    # 需要了解对应的参数\n",
    "    conv1 = tf.nn.conv2d(input=x,filter=conv_kernel1,padding='SAME',strides=stride_shape1)\n",
    "    bias1 = tf.Variable(tf.constant(0.1,shape=[64]))\n",
    "    features1 = conv1+bias1\n",
    "    # 计算产出的结果的大小\n",
    "    #ceil[(28-3)/2]+1,第13个位置，1+（13-1）*2 = 25,结尾为25+stripe_step=25+2=27,还可以再添加一个\n",
    "    #，所以conv的shape应该为[batch_size,13,13,5]\n",
    "    # 定义激活层 \n",
    "    act1 = tf.nn.relu(features=features1,name=\"act1\")\n",
    "    # 定义相关的max_pooling层,计算方式和conv层一样,ciel((14-2)/2)+1,max1的shape应该为[100,7,7,5]\n",
    "    max1 = tf.nn.max_pool(value=act1,ksize=[1,2,2,1],strides=[1,2,2,1],padding='SAME',name='max1')\n",
    "    \n",
    "\n",
    "\n",
    "\n"
   ]
  },
  {
   "cell_type": "code",
   "execution_count": 7,
   "metadata": {},
   "outputs": [
    {
     "data": {
      "text/plain": [
       "tensorflow.python.framework.ops.Tensor"
      ]
     },
     "execution_count": 7,
     "metadata": {},
     "output_type": "execute_result"
    }
   ],
   "source": [
    "type(tf.shape(max1))"
   ]
  },
  {
   "cell_type": "code",
   "execution_count": 8,
   "metadata": {},
   "outputs": [
    {
     "name": "stdout",
     "output_type": "stream",
     "text": [
      "Tensor(\"Shape_5:0\", shape=(4,), dtype=int32)\n",
      "(?, 7, 7, 64)\n"
     ]
    }
   ],
   "source": [
    "print(tf.shape(max1))\n",
    "print(max1.shape)"
   ]
  },
  {
   "cell_type": "code",
   "execution_count": 9,
   "metadata": {},
   "outputs": [],
   "source": [
    "# 定义stripe的shape，第一个和最后一个必须为1\n",
    "stride_shape2=[1,2,2,1]\n",
    "# 定义卷积神经网络\n",
    "# 创建卷积核,设置5个卷积核\n",
    "#conv_kernel = tf.Variable(dtype=shape=[3,3,1,5])\n",
    "with tf.variable_scope(\"layer2\",reuse=tf.AUTO_REUSE):\n",
    "    conv_kernel2 = tf.get_variable(name=\"conv2\",shape=[3,3,max1.shape[-1],32],dtype=tf.float32,initializer=tf.contrib.layers.xavier_initializer_conv2d())\n",
    "    # 需要了解对应的参数\n",
    "    conv2 = tf.nn.conv2d(input=max1,filter=conv_kernel2,padding='SAME',strides=stride_shape2)\n",
    "    \n",
    "    bias2 = tf.Variable(tf.constant(0.1,shape=[32]))\n",
    "    features2 = conv2+bias2\n",
    "    # todo 使用wx+b的形式，在激活层之前设置conv2\n",
    "    # 计算产出的结果的大小\n",
    "    #ceil[(7-3)/2]+1, 产出结果应该为[batch_size,4,4,3]\n",
    "    # 定义激活层 \n",
    "    act2 = tf.nn.relu(features=features2,name=\"act2\")\n",
    "    # 定义相关的max_pooling层,计算方式和conv层一样,ceil((4-2)/2)+1,max1的shape应该为[100,2,2,3]\n",
    "    max2 = tf.nn.max_pool(value=act2,ksize=[1,2,2,1],strides=[1,2,2,1],padding='SAME',name='max2')\n",
    "    \n",
    "\n",
    "\n",
    "\n"
   ]
  },
  {
   "cell_type": "code",
   "execution_count": 10,
   "metadata": {},
   "outputs": [],
   "source": [
    "# 定义全连接\n",
    "# 参考网址:\n",
    "with tf.variable_scope(\"fully_conn\",reuse=tf.AUTO_REUSE):\n",
    "    reshape_size=max2.shape[1].value*max2.shape[2].value*max2.shape[3].value\n",
    "    #print(\"type reshape_sizee:\",type(reshape_size),\", value:\",reshape_size)\n",
    "    # 直接采用dense的方式\n",
    "    #weights = tf.get_variable(shape=[None,reshape_size],)\n",
    "    # 先将产出结果打平，进行相关的全连接\n",
    "    flat = tf.reshape(tensor=max2,shape=[-1,reshape_size],name=\"flat\")\n",
    "    # 打平后，使用matmul计算全连接，并进行激活\n",
    "    n_class=10\n",
    "    fully1=tf.layers.dense(name=\"full1\",units=50,inputs=flat,activation=tf.nn.relu,kernel_initializer=tf.truncated_normal_initializer,bias_initializer=tf.zeros_initializer,reuse=tf.AUTO_REUSE)\n",
    "    \n",
    "    # 定义使用soft\n",
    "    \n",
    "    fully2 = tf.layers.dense(name=\"full2\",units=n_class,inputs=fully1,activation=tf.nn.softmax,kernel_initializer=tf.truncated_normal_initializer,bias_initializer=tf.zeros_initializer,reuse=tf.AUTO_REUSE)\n",
    "    \n",
    "    \n",
    "    \n",
    "    \n",
    "    \n",
    "    \n"
   ]
  },
  {
   "cell_type": "code",
   "execution_count": 11,
   "metadata": {},
   "outputs": [
    {
     "name": "stdout",
     "output_type": "stream",
     "text": [
      "(?, 28, 28, 1)\n",
      "(?, 10)\n"
     ]
    }
   ],
   "source": [
    "print(x.shape)\n",
    "print(fully2.shape)"
   ]
  },
  {
   "cell_type": "code",
   "execution_count": 12,
   "metadata": {},
   "outputs": [],
   "source": [
    "# 定义相关的损失函数\n",
    "with tf.variable_scope(\"loss\",reuse=tf.AUTO_REUSE):\n",
    "    # 使用交叉熵的方式，由于已经使用了softmax的方式，所以使用交叉熵\n",
    "    # 交叉熵的计算公式,此处对交叉熵进行截断\n",
    "    multi_result =-tf.multiply(y_true, tf.log(tf.clip_by_value(fully2,1e-10,1.1)))\n",
    "    # 求和，获取每个样本的交叉熵\n",
    "    ce = tf.reduce_sum(multi_result, reduction_indices=[1])\n",
    "    # 计算整个batch中的交叉熵\n",
    "    cost = tf.reduce_mean(ce)\n",
    "    # 定义优化函数\n",
    "    # opt = tf.train.GradientDescentOptimizer(learning_rate=0.01)\n",
    "    opt = tf.train.AdamOptimizer(learning_rate=0.01)\n",
    "    train_op = opt.minimize(cost)\n",
    "    \n",
    "    \n"
   ]
  },
  {
   "cell_type": "code",
   "execution_count": 13,
   "metadata": {},
   "outputs": [],
   "source": [
    "def print_with_batch_size(sess,need_print_tensor):\n",
    "    init = tf.global_variables_initializer()\n",
    "    sess.run(init)\n",
    "    batch_size = 100\n",
    "    xs_batch,ys_batch = mnist.train.next_batch(batch_size=batch_size)\n",
    "    # 对输入的数据，进行相应的reshape\n",
    "    xs_batch_reshape = np.reshape(xs_batch,newshape=[batch_size,28,28,1])\n",
    "    result = sess.run(need_print_tensor,feed_dict={x:xs_batch_reshape,y_true:ys_batch})\n",
    "    print(\"shape result:\",result.shape)\n",
    "    print(\"value result:\",result)\n",
    "    "
   ]
  },
  {
   "cell_type": "code",
   "execution_count": 14,
   "metadata": {},
   "outputs": [],
   "source": [
    "# 注意注意注意！！！！！！！！！，在执行train之前，需要注释掉所有的该代码，不然会影响loss的迭代和优化。\n",
    "# print_with_batch_size(sess,fully1)"
   ]
  },
  {
   "cell_type": "code",
   "execution_count": 15,
   "metadata": {},
   "outputs": [],
   "source": [
    "#print_with_batch_size(sess,fully2)"
   ]
  },
  {
   "cell_type": "code",
   "execution_count": 16,
   "metadata": {},
   "outputs": [],
   "source": [
    "#检查最后输出的值是否在相应的范围内\n",
    "#print_with_batch_size(sess,multi_result)"
   ]
  },
  {
   "cell_type": "code",
   "execution_count": 17,
   "metadata": {},
   "outputs": [],
   "source": [
    "# 定义相关的损失函数和相关的优化函数\n",
    "\n",
    "def do_train(sess):\n",
    "    print_size = 200\n",
    "    init = tf.global_variables_initializer()\n",
    "    sess.run(init)\n",
    "    count = 0 \n",
    "    for i in range(5000):\n",
    "        # 进行相关的训练\n",
    "        batch_size = 100\n",
    "        count = count +1 \n",
    "        xs_batch,ys_batch = mnist.train.next_batch(batch_size=batch_size)\n",
    "        # 对输入的数据，进行相应的reshape\n",
    "        xs_batch_reshape = np.reshape(xs_batch,newshape=[batch_size,28,28,1])\n",
    "        #print(\"xs_batch_reshape: \",np.shape(xs_batch_reshape),\", dtype: \",xs_batch_reshape.dtype)\n",
    "        _,loss = sess.run([train_op,cost],feed_dict={x:xs_batch_reshape,y_true:ys_batch})\n",
    "        \n",
    "        if count % print_size == 0:\n",
    "            print(\"loss: \",loss)\n",
    "        \n",
    "            \n",
    "    \n"
   ]
  },
  {
   "cell_type": "code",
   "execution_count": 18,
   "metadata": {},
   "outputs": [
    {
     "name": "stdout",
     "output_type": "stream",
     "text": [
      "loss:  0.41283026\n",
      "loss:  0.1834982\n",
      "loss:  0.42627418\n",
      "loss:  0.30872172\n",
      "loss:  0.16397482\n",
      "loss:  0.19438943\n",
      "loss:  0.26425335\n",
      "loss:  0.25175896\n",
      "loss:  0.30066878\n",
      "loss:  0.16438584\n",
      "loss:  0.1740794\n",
      "loss:  0.083542675\n",
      "loss:  0.09893694\n",
      "loss:  0.10121113\n",
      "loss:  0.05956073\n",
      "loss:  0.0608853\n",
      "loss:  0.10654433\n",
      "loss:  0.070497215\n",
      "loss:  0.31999287\n",
      "loss:  0.073016904\n",
      "loss:  0.04856941\n",
      "loss:  0.17581703\n",
      "loss:  0.1226931\n",
      "loss:  0.18163356\n",
      "loss:  0.1435606\n"
     ]
    }
   ],
   "source": [
    "do_train(sess)"
   ]
  },
  {
   "cell_type": "code",
   "execution_count": 19,
   "metadata": {},
   "outputs": [],
   "source": [
    "def cal_accu(sess,predict_layer):\n",
    "    #init = tf.global_variables_initializer()\n",
    "    #sess.run(init)\n",
    "    # 将输入数据预处理\n",
    "    x_test= np.reshape(mnist.test.images,newshape=[mnist.test.images.shape[0],28,28,1])\n",
    "    # 获取预测，最后的softmax层为full2\n",
    "    predict_result = sess.run(predict_layer,feed_dict={x:x_test,y_true:mnist.test.labels})\n",
    "    # 获取预测标签\n",
    "    all_is_equal = tf.equal(tf.arg_max(predict_result,dimension=1),tf.arg_max(mnist.test.labels,dimension=1))\n",
    "    #print_with_batch_size(sess,all_is_equal)\n",
    "    # 计算精确率\n",
    "    print(\"all_is_equal.dtype:\",all_is_equal.dtype)\n",
    "    accu = tf.reduce_mean(tf.cast(all_is_equal,tf.float32))\n",
    "    #accu = tf.reduce_mean(all_is_equal)\n",
    "    print(\"accu: \",sess.run(accu))\n",
    "    \n",
    "    "
   ]
  },
  {
   "cell_type": "code",
   "execution_count": 20,
   "metadata": {},
   "outputs": [
    {
     "name": "stdout",
     "output_type": "stream",
     "text": [
      "WARNING:tensorflow:From <ipython-input-19-df716b0630e5>:9: arg_max (from tensorflow.python.ops.gen_math_ops) is deprecated and will be removed in a future version.\n",
      "Instructions for updating:\n",
      "Use `argmax` instead\n",
      "all_is_equal.dtype: <dtype: 'bool'>\n",
      "accu:  0.9617\n"
     ]
    }
   ],
   "source": [
    "cal_accu(sess,fully2)"
   ]
  },
  {
   "cell_type": "code",
   "execution_count": null,
   "metadata": {},
   "outputs": [],
   "source": []
  },
  {
   "cell_type": "code",
   "execution_count": null,
   "metadata": {},
   "outputs": [],
   "source": []
  }
 ],
 "metadata": {
  "kernelspec": {
   "display_name": "Python 3",
   "language": "python",
   "name": "python3"
  },
  "language_info": {
   "codemirror_mode": {
    "name": "ipython",
    "version": 3
   },
   "file_extension": ".py",
   "mimetype": "text/x-python",
   "name": "python",
   "nbconvert_exporter": "python",
   "pygments_lexer": "ipython3",
   "version": "3.6.5"
  }
 },
 "nbformat": 4,
 "nbformat_minor": 2
}
