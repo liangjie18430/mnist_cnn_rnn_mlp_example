{
 "cells": [
  {
   "cell_type": "code",
   "execution_count": 1,
   "metadata": {},
   "outputs": [
    {
     "name": "stderr",
     "output_type": "stream",
     "text": [
      "/root/anaconda3/lib/python3.6/site-packages/h5py/__init__.py:36: FutureWarning: Conversion of the second argument of issubdtype from `float` to `np.floating` is deprecated. In future, it will be treated as `np.float64 == np.dtype(float).type`.\n",
      "  from ._conv import register_converters as _register_converters\n"
     ]
    },
    {
     "name": "stdout",
     "output_type": "stream",
     "text": [
      "WARNING:tensorflow:From <ipython-input-1-97cbf627dce4>:5: read_data_sets (from tensorflow.contrib.learn.python.learn.datasets.mnist) is deprecated and will be removed in a future version.\n",
      "Instructions for updating:\n",
      "Please use alternatives such as official/mnist/dataset.py from tensorflow/models.\n",
      "WARNING:tensorflow:From /root/anaconda3/lib/python3.6/site-packages/tensorflow/contrib/learn/python/learn/datasets/mnist.py:260: maybe_download (from tensorflow.contrib.learn.python.learn.datasets.base) is deprecated and will be removed in a future version.\n",
      "Instructions for updating:\n",
      "Please write your own downloading logic.\n",
      "WARNING:tensorflow:From /root/anaconda3/lib/python3.6/site-packages/tensorflow/contrib/learn/python/learn/datasets/mnist.py:262: extract_images (from tensorflow.contrib.learn.python.learn.datasets.mnist) is deprecated and will be removed in a future version.\n",
      "Instructions for updating:\n",
      "Please use tf.data to implement this functionality.\n",
      "Extracting MNIST_data/train-images-idx3-ubyte.gz\n",
      "WARNING:tensorflow:From /root/anaconda3/lib/python3.6/site-packages/tensorflow/contrib/learn/python/learn/datasets/mnist.py:267: extract_labels (from tensorflow.contrib.learn.python.learn.datasets.mnist) is deprecated and will be removed in a future version.\n",
      "Instructions for updating:\n",
      "Please use tf.data to implement this functionality.\n",
      "Extracting MNIST_data/train-labels-idx1-ubyte.gz\n",
      "WARNING:tensorflow:From /root/anaconda3/lib/python3.6/site-packages/tensorflow/contrib/learn/python/learn/datasets/mnist.py:110: dense_to_one_hot (from tensorflow.contrib.learn.python.learn.datasets.mnist) is deprecated and will be removed in a future version.\n",
      "Instructions for updating:\n",
      "Please use tf.one_hot on tensors.\n",
      "Extracting MNIST_data/t10k-images-idx3-ubyte.gz\n",
      "Extracting MNIST_data/t10k-labels-idx1-ubyte.gz\n",
      "WARNING:tensorflow:From /root/anaconda3/lib/python3.6/site-packages/tensorflow/contrib/learn/python/learn/datasets/mnist.py:290: DataSet.__init__ (from tensorflow.contrib.learn.python.learn.datasets.mnist) is deprecated and will be removed in a future version.\n",
      "Instructions for updating:\n",
      "Please use alternatives such as official/mnist/dataset.py from tensorflow/models.\n"
     ]
    }
   ],
   "source": [
    "from __future__ import print_function\n",
    "\n",
    "from tensorflow.examples.tutorials.mnist import input_data\n",
    "\n",
    "mnist = input_data.read_data_sets(\"MNIST_data/\", one_hot=True)"
   ]
  },
  {
   "cell_type": "code",
   "execution_count": 2,
   "metadata": {},
   "outputs": [],
   "source": [
    "import tensorflow as tf\n",
    "import numpy as np"
   ]
  },
  {
   "cell_type": "code",
   "execution_count": 3,
   "metadata": {},
   "outputs": [
    {
     "data": {
      "text/plain": [
       "['__class__',\n",
       " '__delattr__',\n",
       " '__dict__',\n",
       " '__dir__',\n",
       " '__doc__',\n",
       " '__eq__',\n",
       " '__format__',\n",
       " '__ge__',\n",
       " '__getattribute__',\n",
       " '__gt__',\n",
       " '__hash__',\n",
       " '__init__',\n",
       " '__init_subclass__',\n",
       " '__le__',\n",
       " '__lt__',\n",
       " '__module__',\n",
       " '__ne__',\n",
       " '__new__',\n",
       " '__reduce__',\n",
       " '__reduce_ex__',\n",
       " '__repr__',\n",
       " '__setattr__',\n",
       " '__sizeof__',\n",
       " '__str__',\n",
       " '__subclasshook__',\n",
       " '__weakref__',\n",
       " '_epochs_completed',\n",
       " '_images',\n",
       " '_index_in_epoch',\n",
       " '_labels',\n",
       " '_num_examples',\n",
       " 'epochs_completed',\n",
       " 'images',\n",
       " 'labels',\n",
       " 'next_batch',\n",
       " 'num_examples']"
      ]
     },
     "execution_count": 3,
     "metadata": {},
     "output_type": "execute_result"
    }
   ],
   "source": [
    "dir(mnist.train)"
   ]
  },
  {
   "cell_type": "code",
   "execution_count": 4,
   "metadata": {},
   "outputs": [
    {
     "data": {
      "text/plain": [
       "55000"
      ]
     },
     "execution_count": 4,
     "metadata": {},
     "output_type": "execute_result"
    }
   ],
   "source": [
    "mnist.train.num_examples"
   ]
  },
  {
   "cell_type": "code",
   "execution_count": 5,
   "metadata": {},
   "outputs": [],
   "source": [
    "train_batch,label_batch =mnist.train.next_batch(100)"
   ]
  },
  {
   "cell_type": "code",
   "execution_count": 6,
   "metadata": {},
   "outputs": [
    {
     "data": {
      "text/plain": [
       "(100, 784)"
      ]
     },
     "execution_count": 6,
     "metadata": {},
     "output_type": "execute_result"
    }
   ],
   "source": [
    "train_batch.shape"
   ]
  },
  {
   "cell_type": "code",
   "execution_count": 7,
   "metadata": {},
   "outputs": [
    {
     "data": {
      "text/plain": [
       "(100, 10)"
      ]
     },
     "execution_count": 7,
     "metadata": {},
     "output_type": "execute_result"
    }
   ],
   "source": [
    "label_batch.shape"
   ]
  },
  {
   "cell_type": "code",
   "execution_count": 8,
   "metadata": {},
   "outputs": [
    {
     "data": {
      "text/plain": [
       "(55000, 784)"
      ]
     },
     "execution_count": 8,
     "metadata": {},
     "output_type": "execute_result"
    }
   ],
   "source": [
    "np.shape(mnist.train.images)"
   ]
  },
  {
   "cell_type": "code",
   "execution_count": 9,
   "metadata": {},
   "outputs": [
    {
     "data": {
      "text/plain": [
       "(55000, 10)"
      ]
     },
     "execution_count": 9,
     "metadata": {},
     "output_type": "execute_result"
    }
   ],
   "source": [
    "np.shape(mnist.train.labels)"
   ]
  },
  {
   "cell_type": "code",
   "execution_count": 10,
   "metadata": {},
   "outputs": [],
   "source": [
    "def print_ds(sess,ds,head=None):\n",
    "    count = 0\n",
    "    print(type(ds))\n",
    "    #if isinstance(ds,tf.data.Dataset) or isinstance(ds,tf.contrib.learn.datasets.mnist.DataSet):\n",
    "    init = tf.global_variables_initializer()\n",
    "    sess.run(init)\n",
    "    iter = ds.make_one_shot_iterator()\n",
    "    make_one_shot_iterator\n",
    "    while True:\n",
    "    \n",
    "        try:\n",
    "            print(sess.run(iter.get_next()))\n",
    "            count = count +1\n",
    "            if head!=None:\n",
    "                if count==head:\n",
    "                    # 如果指定了只打印topk个\n",
    "                    break\n",
    "            # 如果未指定head，则打印所有\n",
    "        except Exception as e:\n",
    "            break\n",
    "            pass\n",
    "    print(\"the count%d\"%count)"
   ]
  },
  {
   "cell_type": "code",
   "execution_count": 11,
   "metadata": {},
   "outputs": [],
   "source": [
    "sess = tf.Session()"
   ]
  },
  {
   "cell_type": "code",
   "execution_count": 12,
   "metadata": {},
   "outputs": [],
   "source": [
    "# 总共有10个类别\n",
    "n_class=10\n",
    "w = tf.Variable(tf.truncated_normal(shape=[784,n_class],dtype=tf.float32,mean=0,stddev=1))\n"
   ]
  },
  {
   "cell_type": "code",
   "execution_count": null,
   "metadata": {},
   "outputs": [],
   "source": []
  },
  {
   "cell_type": "code",
   "execution_count": 13,
   "metadata": {},
   "outputs": [
    {
     "name": "stdout",
     "output_type": "stream",
     "text": [
      "result: [[0.28469744 0.05337682 0.6619258 ]\n",
      " [0.22725219 0.57093334 0.20181449]\n",
      " [0.36078554 0.58519757 0.05401689]]\n",
      "sum: [1. 1. 1.]\n"
     ]
    }
   ],
   "source": [
    "def test_soft_max():\n",
    "    with tf.variable_scope(\"test\",reuse=tf.AUTO_REUSE):\n",
    "        t = tf.get_variable(name='t',shape=[3,3],initializer=tf.random_normal_initializer(mean=0,stddev=1,dtype=tf.float32))\n",
    "        # 使用soft\n",
    "        soft_t = tf.nn.softmax(logits=t,name='pros')\n",
    "        init = tf.global_variables_initializer()\n",
    "        sess.run(init)\n",
    "        result = sess.run(soft_t)\n",
    "        print(\"result:\",result)\n",
    "        # 求和，\n",
    "        sum_result= tf.reduce_sum(result,axis=1)\n",
    "        \n",
    "        print(\"sum:\",sess.run(sum_result))\n",
    "        \n",
    "test_soft_max()\n",
    "    \n",
    "    "
   ]
  },
  {
   "cell_type": "code",
   "execution_count": null,
   "metadata": {},
   "outputs": [],
   "source": []
  },
  {
   "cell_type": "code",
   "execution_count": 14,
   "metadata": {},
   "outputs": [],
   "source": [
    "n_class=10\n",
    "w = tf.get_variable(shape=[784,n_class],name='w',initializer=tf.contrib.layers.xavier_initializer())\n",
    "b = tf.Variable(tf.zeros(shape=[n_class]))\n",
    "# 定义placeholder用于获取输入,第一个参数为接收的batch_size\n",
    "x = tf.placeholder(shape=[None,784],dtype=tf.float32)\n",
    "y_true = tf.placeholder(shape=[None,10],dtype=tf.float32)\n",
    "# 获取每一个的y_pred  tf.nn.softmax,因为使用with_logits,不需要自行归一化\n",
    "y_pred = tf.matmul(x,w)+b\n",
    "loss_multi = tf.nn.softmax_cross_entropy_with_logits_v2(logits=y_pred,labels=y_true)\n"
   ]
  },
  {
   "cell_type": "code",
   "execution_count": 15,
   "metadata": {},
   "outputs": [],
   "source": [
    "\n",
    "\n",
    "\n",
    "# 定义损失函数,使用交叉熵损失\n",
    "# 一个batch中的损失\n",
    "\n",
    "loss = tf.reduce_mean(loss_multi)"
   ]
  },
  {
   "cell_type": "code",
   "execution_count": 16,
   "metadata": {},
   "outputs": [],
   "source": [
    "# 定义优化方法\n",
    "opt = tf.train.GradientDescentOptimizer(name=\"train_1\",learning_rate=0.01)\n",
    "train_op = opt.minimize(loss)"
   ]
  },
  {
   "cell_type": "code",
   "execution_count": 17,
   "metadata": {},
   "outputs": [
    {
     "name": "stdout",
     "output_type": "stream",
     "text": [
      "loss: 2.3771138\n",
      "loss: 1.2307539\n",
      "loss: 0.9240787\n",
      "loss: 0.75752634\n",
      "loss: 0.6611726\n",
      "loss: 0.65738463\n",
      "loss: 0.58318883\n",
      "loss: 0.56369513\n",
      "loss: 0.5518216\n",
      "loss: 0.5417503\n",
      "loss: 0.48612326\n",
      "loss: 0.49815026\n",
      "loss: 0.4814637\n",
      "loss: 0.4252578\n",
      "loss: 0.46111825\n",
      "loss: 0.4700828\n",
      "loss: 0.4677924\n",
      "loss: 0.44984964\n",
      "loss: 0.41083214\n",
      "loss: 0.41195238\n",
      "loss: 0.43869385\n",
      "loss: 0.4111731\n",
      "loss: 0.4174053\n",
      "loss: 0.37041128\n",
      "loss: 0.4926011\n",
      "loss: 0.33824566\n",
      "loss: 0.3478462\n",
      "loss: 0.32194147\n",
      "loss: 0.3684188\n",
      "loss: 0.30450782\n",
      "loss: 0.38360527\n",
      "loss: 0.36700165\n",
      "loss: 0.45263138\n",
      "loss: 0.39067432\n",
      "loss: 0.44632122\n",
      "loss: 0.36268955\n",
      "loss: 0.35953736\n",
      "loss: 0.42020386\n",
      "loss: 0.3921723\n",
      "loss: 0.33729523\n",
      "loss: 0.3331939\n",
      "loss: 0.3385606\n",
      "loss: 0.34707195\n",
      "loss: 0.31109297\n",
      "loss: 0.38045272\n",
      "loss: 0.33754548\n",
      "loss: 0.45249993\n",
      "loss: 0.36806288\n",
      "loss: 0.4074459\n",
      "loss: 0.3528238\n"
     ]
    }
   ],
   "source": [
    "init = tf.global_variables_initializer()\n",
    "sess.run(init)\n",
    "show_progress = 200\n",
    "batch_size=400\n",
    "epoch = 10000\n",
    "train_datas = mnist.train\n",
    "for i in range(epoch):\n",
    "    train_batch,label_batch = train_datas.next_batch(batch_size=batch_size)\n",
    "    #print(type(train_batch))\n",
    "    #进行训练，并且获取相关的损失\n",
    "    _,loss_result = sess.run([train_op,loss],feed_dict={x:train_batch,y_true:label_batch})\n",
    "    if i%show_progress==0:\n",
    "        #print(\"len(loss):\",len(loss_result))\n",
    "        print(\"loss:\",loss_result)\n",
    "        "
   ]
  },
  {
   "cell_type": "code",
   "execution_count": 18,
   "metadata": {},
   "outputs": [
    {
     "name": "stdout",
     "output_type": "stream",
     "text": [
      "WARNING:tensorflow:From <ipython-input-18-67750975c728>:4: arg_max (from tensorflow.python.ops.gen_math_ops) is deprecated and will be removed in a future version.\n",
      "Instructions for updating:\n",
      "Use `argmax` instead\n"
     ]
    }
   ],
   "source": [
    "# 计算相关的精确率\n",
    "y_test_pred = sess.run(y_pred,feed_dict={x:mnist.test.images})\n",
    "# 判断类别是否相等\n",
    "y_is_equal = tf.equal(tf.arg_max(y_test_pred,dimension=1),tf.arg_max(mnist.test.labels,dimension=1))\n",
    "# 计算精确率\n",
    "accu = tf.reduce_mean(tf.cast(y_is_equal,tf.float32))"
   ]
  },
  {
   "cell_type": "code",
   "execution_count": 19,
   "metadata": {},
   "outputs": [
    {
     "data": {
      "text/plain": [
       "0.9108"
      ]
     },
     "execution_count": 19,
     "metadata": {},
     "output_type": "execute_result"
    }
   ],
   "source": [
    "sess.run(accu)"
   ]
  },
  {
   "cell_type": "code",
   "execution_count": 20,
   "metadata": {},
   "outputs": [
    {
     "data": {
      "text/plain": [
       "array([0., 0., 0., 0., 1., 0., 0., 0., 0., 0.])"
      ]
     },
     "execution_count": 20,
     "metadata": {},
     "output_type": "execute_result"
    }
   ],
   "source": [
    "label_batch[0]"
   ]
  },
  {
   "cell_type": "code",
   "execution_count": 21,
   "metadata": {},
   "outputs": [],
   "source": [
    "# 测试tf.layers 的dense方法\n",
    "\n",
    "# todo ,测试方法2，不使用matmul的方法，而是使用nn的方法\n",
    "layer_dense = tf.layers.dense(units=10,inputs=x,activation=tf.nn.softmax,bias_initializer=tf.zeros_initializer(dtype=tf.float32),kernel_initializer=tf.contrib.layers.xavier_initializer(),reuse=tf.AUTO_REUSE)\n",
    "\n"
   ]
  },
  {
   "cell_type": "code",
   "execution_count": 22,
   "metadata": {},
   "outputs": [],
   "source": [
    "# 使用交叉熵的方式，由于已经使用了softmax的方式，所以使用交叉熵\n",
    "# 交叉熵的计算公式\n",
    "multi_result =-tf.multiply(y_true, tf.log(layer_dense))\n",
    "# 求和，获取每个样本的交叉熵\n",
    "ce2 = tf.reduce_sum(multi_result, reduction_indices=[1])\n",
    "# 计算整个batch中的交叉熵\n",
    "cost_2 = tf.reduce_mean(ce2)"
   ]
  },
  {
   "cell_type": "code",
   "execution_count": 23,
   "metadata": {},
   "outputs": [],
   "source": [
    "# 定义优化器\n",
    "opt_dense = tf.train.GradientDescentOptimizer(learning_rate=0.01,name=\"opt_dense\")\n",
    "# 定义train_op\n",
    "dense_train_op = opt_dense.minimize(loss=cost_2)"
   ]
  },
  {
   "cell_type": "code",
   "execution_count": 24,
   "metadata": {},
   "outputs": [],
   "source": [
    "def train_dense():\n",
    "    init = tf.global_variables_initializer()\n",
    "    sess.run(init)\n",
    "    show_progress = 200\n",
    "    batch_size=400\n",
    "    epoch = 10000\n",
    "    for i in range(epoch):\n",
    "        train_batch,label_batch = train_datas.next_batch(batch_size=batch_size)\n",
    "        #print(type(train_batch))\n",
    "        #进行训练，并且获取相关的损失\n",
    "        _,dense_loss_result = sess.run([dense_train_op,cost_2],feed_dict={x:train_batch,y_true:label_batch})\n",
    "        if i%show_progress==0:\n",
    "            #print(\"len(loss):\",len(loss_result))\n",
    "            print(\"loss:\",dense_loss_result)\n",
    "    \n"
   ]
  },
  {
   "cell_type": "code",
   "execution_count": 25,
   "metadata": {},
   "outputs": [
    {
     "name": "stdout",
     "output_type": "stream",
     "text": [
      "loss: 2.3654234\n",
      "loss: 1.218252\n",
      "loss: 0.94215083\n",
      "loss: 0.72978806\n",
      "loss: 0.68279207\n",
      "loss: 0.6112957\n",
      "loss: 0.5582106\n",
      "loss: 0.56781477\n",
      "loss: 0.50211066\n",
      "loss: 0.50937355\n",
      "loss: 0.49039987\n",
      "loss: 0.5126478\n",
      "loss: 0.49018157\n",
      "loss: 0.45508453\n",
      "loss: 0.43765527\n",
      "loss: 0.42863643\n",
      "loss: 0.4477783\n",
      "loss: 0.37186423\n",
      "loss: 0.46026608\n",
      "loss: 0.38049802\n",
      "loss: 0.48695564\n",
      "loss: 0.420323\n",
      "loss: 0.41849017\n",
      "loss: 0.37675434\n",
      "loss: 0.35345325\n",
      "loss: 0.33666778\n",
      "loss: 0.39449012\n",
      "loss: 0.267374\n",
      "loss: 0.45822188\n",
      "loss: 0.37353894\n",
      "loss: 0.38602868\n",
      "loss: 0.3411561\n",
      "loss: 0.3780384\n",
      "loss: 0.3708429\n",
      "loss: 0.41722378\n",
      "loss: 0.36855674\n",
      "loss: 0.43654642\n",
      "loss: 0.39785835\n",
      "loss: 0.34686226\n",
      "loss: 0.33731872\n",
      "loss: 0.26470807\n",
      "loss: 0.34882328\n",
      "loss: 0.33995017\n",
      "loss: 0.40003073\n",
      "loss: 0.39690173\n",
      "loss: 0.3655105\n",
      "loss: 0.32998428\n",
      "loss: 0.37156272\n",
      "loss: 0.40273207\n",
      "loss: 0.42162803\n"
     ]
    }
   ],
   "source": [
    "train_dense()"
   ]
  },
  {
   "cell_type": "code",
   "execution_count": 26,
   "metadata": {},
   "outputs": [
    {
     "name": "stdout",
     "output_type": "stream",
     "text": [
      "accu: 0.9098\n"
     ]
    }
   ],
   "source": [
    "# 计算dense的相关的精确率\n",
    "# 计算相关的精确率\n",
    "y_test_pred_dense = sess.run(layer_dense,feed_dict={x:mnist.test.images})\n",
    "# 判断类别是否相等\n",
    "y_is_equal_dense = tf.equal(tf.arg_max(y_test_pred_dense,dimension=1),tf.arg_max(mnist.test.labels,dimension=1))\n",
    "# 计算精确率\n",
    "accu = tf.reduce_mean(tf.cast(y_is_equal_dense,tf.float32))\n",
    "accu_dense_result = sess.run(accu)\n",
    "print(\"accu:\",accu_dense_result)"
   ]
  },
  {
   "cell_type": "code",
   "execution_count": null,
   "metadata": {},
   "outputs": [],
   "source": []
  }
 ],
 "metadata": {
  "kernelspec": {
   "display_name": "Python 3",
   "language": "python",
   "name": "python3"
  },
  "language_info": {
   "codemirror_mode": {
    "name": "ipython",
    "version": 3
   },
   "file_extension": ".py",
   "mimetype": "text/x-python",
   "name": "python",
   "nbconvert_exporter": "python",
   "pygments_lexer": "ipython3",
   "version": "3.6.5"
  }
 },
 "nbformat": 4,
 "nbformat_minor": 2
}
