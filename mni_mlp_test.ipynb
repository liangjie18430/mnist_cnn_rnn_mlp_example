{
 "cells": [
  {
   "cell_type": "code",
   "execution_count": 1,
   "metadata": {},
   "outputs": [
    {
     "name": "stderr",
     "output_type": "stream",
     "text": [
      "/root/anaconda3/lib/python3.6/site-packages/h5py/__init__.py:36: FutureWarning: Conversion of the second argument of issubdtype from `float` to `np.floating` is deprecated. In future, it will be treated as `np.float64 == np.dtype(float).type`.\n",
      "  from ._conv import register_converters as _register_converters\n"
     ]
    },
    {
     "name": "stdout",
     "output_type": "stream",
     "text": [
      "WARNING:tensorflow:From <ipython-input-1-97cbf627dce4>:5: read_data_sets (from tensorflow.contrib.learn.python.learn.datasets.mnist) is deprecated and will be removed in a future version.\n",
      "Instructions for updating:\n",
      "Please use alternatives such as official/mnist/dataset.py from tensorflow/models.\n",
      "WARNING:tensorflow:From /root/anaconda3/lib/python3.6/site-packages/tensorflow/contrib/learn/python/learn/datasets/mnist.py:260: maybe_download (from tensorflow.contrib.learn.python.learn.datasets.base) is deprecated and will be removed in a future version.\n",
      "Instructions for updating:\n",
      "Please write your own downloading logic.\n",
      "WARNING:tensorflow:From /root/anaconda3/lib/python3.6/site-packages/tensorflow/contrib/learn/python/learn/datasets/mnist.py:262: extract_images (from tensorflow.contrib.learn.python.learn.datasets.mnist) is deprecated and will be removed in a future version.\n",
      "Instructions for updating:\n",
      "Please use tf.data to implement this functionality.\n",
      "Extracting MNIST_data/train-images-idx3-ubyte.gz\n",
      "WARNING:tensorflow:From /root/anaconda3/lib/python3.6/site-packages/tensorflow/contrib/learn/python/learn/datasets/mnist.py:267: extract_labels (from tensorflow.contrib.learn.python.learn.datasets.mnist) is deprecated and will be removed in a future version.\n",
      "Instructions for updating:\n",
      "Please use tf.data to implement this functionality.\n",
      "Extracting MNIST_data/train-labels-idx1-ubyte.gz\n",
      "WARNING:tensorflow:From /root/anaconda3/lib/python3.6/site-packages/tensorflow/contrib/learn/python/learn/datasets/mnist.py:110: dense_to_one_hot (from tensorflow.contrib.learn.python.learn.datasets.mnist) is deprecated and will be removed in a future version.\n",
      "Instructions for updating:\n",
      "Please use tf.one_hot on tensors.\n",
      "Extracting MNIST_data/t10k-images-idx3-ubyte.gz\n",
      "Extracting MNIST_data/t10k-labels-idx1-ubyte.gz\n",
      "WARNING:tensorflow:From /root/anaconda3/lib/python3.6/site-packages/tensorflow/contrib/learn/python/learn/datasets/mnist.py:290: DataSet.__init__ (from tensorflow.contrib.learn.python.learn.datasets.mnist) is deprecated and will be removed in a future version.\n",
      "Instructions for updating:\n",
      "Please use alternatives such as official/mnist/dataset.py from tensorflow/models.\n"
     ]
    }
   ],
   "source": [
    "from __future__ import print_function\n",
    "\n",
    "from tensorflow.examples.tutorials.mnist import input_data\n",
    "\n",
    "mnist = input_data.read_data_sets(\"MNIST_data/\", one_hot=True)"
   ]
  },
  {
   "cell_type": "code",
   "execution_count": 2,
   "metadata": {},
   "outputs": [],
   "source": [
    "import tensorflow as tf\n",
    "import numpy as np"
   ]
  },
  {
   "cell_type": "code",
   "execution_count": 3,
   "metadata": {},
   "outputs": [
    {
     "data": {
      "text/plain": [
       "['__class__',\n",
       " '__delattr__',\n",
       " '__dict__',\n",
       " '__dir__',\n",
       " '__doc__',\n",
       " '__eq__',\n",
       " '__format__',\n",
       " '__ge__',\n",
       " '__getattribute__',\n",
       " '__gt__',\n",
       " '__hash__',\n",
       " '__init__',\n",
       " '__init_subclass__',\n",
       " '__le__',\n",
       " '__lt__',\n",
       " '__module__',\n",
       " '__ne__',\n",
       " '__new__',\n",
       " '__reduce__',\n",
       " '__reduce_ex__',\n",
       " '__repr__',\n",
       " '__setattr__',\n",
       " '__sizeof__',\n",
       " '__str__',\n",
       " '__subclasshook__',\n",
       " '__weakref__',\n",
       " '_epochs_completed',\n",
       " '_images',\n",
       " '_index_in_epoch',\n",
       " '_labels',\n",
       " '_num_examples',\n",
       " 'epochs_completed',\n",
       " 'images',\n",
       " 'labels',\n",
       " 'next_batch',\n",
       " 'num_examples']"
      ]
     },
     "execution_count": 3,
     "metadata": {},
     "output_type": "execute_result"
    }
   ],
   "source": [
    "dir(mnist.train)"
   ]
  },
  {
   "cell_type": "code",
   "execution_count": 4,
   "metadata": {},
   "outputs": [
    {
     "data": {
      "text/plain": [
       "55000"
      ]
     },
     "execution_count": 4,
     "metadata": {},
     "output_type": "execute_result"
    }
   ],
   "source": [
    "mnist.train.num_examples"
   ]
  },
  {
   "cell_type": "code",
   "execution_count": 5,
   "metadata": {},
   "outputs": [],
   "source": [
    "train_batch,label_batch =mnist.train.next_batch(100)"
   ]
  },
  {
   "cell_type": "code",
   "execution_count": 6,
   "metadata": {},
   "outputs": [
    {
     "data": {
      "text/plain": [
       "(100, 784)"
      ]
     },
     "execution_count": 6,
     "metadata": {},
     "output_type": "execute_result"
    }
   ],
   "source": [
    "train_batch.shape"
   ]
  },
  {
   "cell_type": "code",
   "execution_count": 7,
   "metadata": {},
   "outputs": [
    {
     "data": {
      "text/plain": [
       "(100, 10)"
      ]
     },
     "execution_count": 7,
     "metadata": {},
     "output_type": "execute_result"
    }
   ],
   "source": [
    "label_batch.shape"
   ]
  },
  {
   "cell_type": "code",
   "execution_count": 8,
   "metadata": {},
   "outputs": [
    {
     "data": {
      "text/plain": [
       "(55000, 784)"
      ]
     },
     "execution_count": 8,
     "metadata": {},
     "output_type": "execute_result"
    }
   ],
   "source": [
    "np.shape(mnist.train.images)"
   ]
  },
  {
   "cell_type": "code",
   "execution_count": 9,
   "metadata": {},
   "outputs": [
    {
     "data": {
      "text/plain": [
       "(55000, 10)"
      ]
     },
     "execution_count": 9,
     "metadata": {},
     "output_type": "execute_result"
    }
   ],
   "source": [
    "np.shape(mnist.train.labels)"
   ]
  },
  {
   "cell_type": "code",
   "execution_count": 10,
   "metadata": {},
   "outputs": [],
   "source": [
    "def print_ds(sess,ds,head=None):\n",
    "    count = 0\n",
    "    print(type(ds))\n",
    "    #if isinstance(ds,tf.data.Dataset) or isinstance(ds,tf.contrib.learn.datasets.mnist.DataSet):\n",
    "    init = tf.global_variables_initializer()\n",
    "    sess.run(init)\n",
    "    iter = ds.make_one_shot_iterator()\n",
    "    make_one_shot_iterator\n",
    "    while True:\n",
    "    \n",
    "        try:\n",
    "            print(sess.run(iter.get_next()))\n",
    "            count = count +1\n",
    "            if head!=None:\n",
    "                if count==head:\n",
    "                    # 如果指定了只打印topk个\n",
    "                    break\n",
    "            # 如果未指定head，则打印所有\n",
    "        except Exception as e:\n",
    "            break\n",
    "            pass\n",
    "    print(\"the count%d\"%count)"
   ]
  },
  {
   "cell_type": "code",
   "execution_count": 11,
   "metadata": {},
   "outputs": [],
   "source": [
    "sess = tf.Session()"
   ]
  },
  {
   "cell_type": "code",
   "execution_count": 12,
   "metadata": {},
   "outputs": [],
   "source": [
    "# 总共有10个类别\n",
    "n_class=10\n",
    "w = tf.Variable(tf.truncated_normal(shape=[784,n_class],dtype=tf.float32,mean=0,stddev=1))\n"
   ]
  },
  {
   "cell_type": "code",
   "execution_count": null,
   "metadata": {},
   "outputs": [],
   "source": []
  },
  {
   "cell_type": "code",
   "execution_count": 13,
   "metadata": {},
   "outputs": [
    {
     "name": "stdout",
     "output_type": "stream",
     "text": [
      "result: [[0.20236593 0.27189812 0.52573603]\n",
      " [0.16618764 0.1433722  0.6904401 ]\n",
      " [0.27990818 0.5699849  0.1501069 ]]\n",
      "sum: [1.0000001  0.99999994 1.        ]\n"
     ]
    }
   ],
   "source": [
    "def test_soft_max():\n",
    "    with tf.variable_scope(\"test\",reuse=tf.AUTO_REUSE):\n",
    "        t = tf.get_variable(name='t',shape=[3,3],initializer=tf.random_normal_initializer(mean=0,stddev=1,dtype=tf.float32))\n",
    "        # 使用soft\n",
    "        soft_t = tf.nn.softmax(logits=t,name='pros')\n",
    "        init = tf.global_variables_initializer()\n",
    "        sess.run(init)\n",
    "        result = sess.run(soft_t)\n",
    "        print(\"result:\",result)\n",
    "        # 求和，\n",
    "        sum_result= tf.reduce_sum(result,axis=1)\n",
    "        \n",
    "        print(\"sum:\",sess.run(sum_result))\n",
    "        \n",
    "test_soft_max()\n",
    "    \n",
    "    "
   ]
  },
  {
   "cell_type": "code",
   "execution_count": 14,
   "metadata": {},
   "outputs": [
    {
     "ename": "NameError",
     "evalue": "name 'x' is not defined",
     "output_type": "error",
     "traceback": [
      "\u001b[0;31m---------------------------------------------------------------------------\u001b[0m",
      "\u001b[0;31mNameError\u001b[0m                                 Traceback (most recent call last)",
      "\u001b[0;32m<ipython-input-14-264bd86e8b1c>\u001b[0m in \u001b[0;36m<module>\u001b[0;34m()\u001b[0m\n\u001b[0;32m----> 1\u001b[0;31m \u001b[0mtf\u001b[0m\u001b[0;34m.\u001b[0m\u001b[0mmatmul\u001b[0m\u001b[0;34m(\u001b[0m\u001b[0mx\u001b[0m\u001b[0;34m,\u001b[0m\u001b[0mw\u001b[0m\u001b[0;34m)\u001b[0m\u001b[0;34m+\u001b[0m\u001b[0mb\u001b[0m\u001b[0;34m\u001b[0m\u001b[0m\n\u001b[0m",
      "\u001b[0;31mNameError\u001b[0m: name 'x' is not defined"
     ]
    }
   ],
   "source": [
    "tf.matmul(x,w)+b"
   ]
  },
  {
   "cell_type": "code",
   "execution_count": null,
   "metadata": {},
   "outputs": [],
   "source": [
    "n_class=10\n",
    "w = tf.get_variable(shape=[784,n_class],name='w',initializer=tf.contrib.layers.xavier_initializer())\n",
    "b = tf.Variable(tf.zeros(shape=[n_class]))\n",
    "# 定义placeholder用于获取输入,第一个参数为接收的batch_size\n",
    "x = tf.placeholder(shape=[None,784],dtype=tf.float32)\n",
    "y_true = tf.placeholder(shape=[None,10],dtype=tf.float32)\n",
    "# 获取每一个的y_pred  tf.nn.softmax,因为使用with_logits,不需要自行归一化\n",
    "y_pred = tf.matmul(x,w)+b\n",
    "loss_multi = tf.nn.softmax_cross_entropy_with_logits_v2(logits=y_pred,labels=y_true)\n"
   ]
  },
  {
   "cell_type": "code",
   "execution_count": null,
   "metadata": {},
   "outputs": [],
   "source": [
    "\n",
    "\n",
    "\n",
    "# 定义损失函数,使用交叉熵损失\n",
    "# 一个batch中的损失\n",
    "\n",
    "loss = tf.reduce_mean(loss_multi)"
   ]
  },
  {
   "cell_type": "code",
   "execution_count": null,
   "metadata": {},
   "outputs": [],
   "source": [
    "# 定义优化方法\n",
    "opt = tf.train.GradientDescentOptimizer(name=\"train_1\",learning_rate=0.01)\n",
    "train_op = opt.minimize(loss)"
   ]
  },
  {
   "cell_type": "code",
   "execution_count": null,
   "metadata": {},
   "outputs": [],
   "source": [
    "init = tf.global_variables_initializer()\n",
    "sess.run(init)\n",
    "show_progress = 200\n",
    "batch_size=400\n",
    "epoch = 10000\n",
    "for i in range(epoch):\n",
    "    train_batch,label_batch = train_datas.next_batch(batch_size=batch_size)\n",
    "    #print(type(train_batch))\n",
    "    #进行训练，并且获取相关的损失\n",
    "    _,loss_result = sess.run([train_op,loss],feed_dict={x:train_batch,y_true:label_batch})\n",
    "    if i%show_progress==0:\n",
    "        #print(\"len(loss):\",len(loss_result))\n",
    "        print(\"loss:\",loss_result)\n",
    "        "
   ]
  },
  {
   "cell_type": "code",
   "execution_count": null,
   "metadata": {},
   "outputs": [],
   "source": [
    "# 计算相关的精确率\n",
    "y_test_pred = sess.run(y_pred,feed_dict={x:mnist.test.images})\n",
    "# 判断类别是否相等\n",
    "y_is_equal = tf.equal(tf.arg_max(y_test_pred,dimension=1),tf.arg_max(mnist.test.labels,dimension=1))\n",
    "# 计算精确率\n",
    "accu = tf.reduce_mean(tf.cast(y_is_equal,tf.float32))"
   ]
  },
  {
   "cell_type": "code",
   "execution_count": null,
   "metadata": {},
   "outputs": [],
   "source": [
    "sess.run(accu)"
   ]
  },
  {
   "cell_type": "code",
   "execution_count": null,
   "metadata": {},
   "outputs": [],
   "source": [
    "label_batch[0]"
   ]
  },
  {
   "cell_type": "code",
   "execution_count": null,
   "metadata": {},
   "outputs": [],
   "source": [
    "# 测试tf.layers 的dense方法\n",
    "\n",
    "# todo ,测试方法2，不使用matmul的方法，而是使用nn的方法\n",
    "layer_dense = tf.layers.dense(units=10,inputs=x,activation=tf.nn.softmax,bias_initializer=tf.zeros_initializer(dtype=tf.float32),kernel_initializer=tf.contrib.layers.xavier_initializer(),reuse=tf.AUTO_REUSE)\n",
    "\n"
   ]
  },
  {
   "cell_type": "code",
   "execution_count": null,
   "metadata": {},
   "outputs": [],
   "source": [
    "# 使用交叉熵的方式，由于已经使用了softmax的方式，所以使用交叉熵\n",
    "# 交叉熵的计算公式\n",
    "multi_result =-tf.multiply(y_true, tf.log(layer_dense))\n",
    "# 求和，获取每个样本的交叉熵\n",
    "ce2 = tf.reduce_sum(multi_result, reduction_indices=[1])\n",
    "# 计算整个batch中的交叉熵\n",
    "cost_2 = tf.reduce_mean(ce2)"
   ]
  },
  {
   "cell_type": "code",
   "execution_count": null,
   "metadata": {},
   "outputs": [],
   "source": [
    "# 定义优化器\n",
    "opt_dense = tf.train.GradientDescentOptimizer(learning_rate=0.01,name=\"opt_dense\")\n",
    "# 定义train_op\n",
    "dense_train_op = opt_dense.minimize(loss=cost_2)"
   ]
  },
  {
   "cell_type": "code",
   "execution_count": null,
   "metadata": {},
   "outputs": [],
   "source": [
    "def train_dense():\n",
    "    init = tf.global_variables_initializer()\n",
    "    sess.run(init)\n",
    "    show_progress = 200\n",
    "    batch_size=400\n",
    "    epoch = 10000\n",
    "    for i in range(epoch):\n",
    "        train_batch,label_batch = train_datas.next_batch(batch_size=batch_size)\n",
    "        #print(type(train_batch))\n",
    "        #进行训练，并且获取相关的损失\n",
    "        _,dense_loss_result = sess.run([dense_train_op,cost_2],feed_dict={x:train_batch,y_true:label_batch})\n",
    "        if i%show_progress==0:\n",
    "            #print(\"len(loss):\",len(loss_result))\n",
    "            print(\"loss:\",dense_loss_result)\n",
    "    \n"
   ]
  },
  {
   "cell_type": "code",
   "execution_count": null,
   "metadata": {},
   "outputs": [],
   "source": [
    "train_dense()"
   ]
  },
  {
   "cell_type": "code",
   "execution_count": null,
   "metadata": {},
   "outputs": [],
   "source": [
    "# 计算dense的相关的精确率\n",
    "# 计算相关的精确率\n",
    "y_test_pred_dense = sess.run(layer_dense,feed_dict={x:mnist.test.images})\n",
    "# 判断类别是否相等\n",
    "y_is_equal_dense = tf.equal(tf.arg_max(y_test_pred_dense,dimension=1),tf.arg_max(mnist.test.labels,dimension=1))\n",
    "# 计算精确率\n",
    "accu = tf.reduce_mean(tf.cast(y_is_equal_dense,tf.float32))\n",
    "accu_dense_result = sess.run(accu)\n",
    "print(\"accu:\",accu_dense_result)"
   ]
  },
  {
   "cell_type": "code",
   "execution_count": null,
   "metadata": {},
   "outputs": [],
   "source": []
  }
 ],
 "metadata": {
  "kernelspec": {
   "display_name": "Python 3",
   "language": "python",
   "name": "python3"
  },
  "language_info": {
   "codemirror_mode": {
    "name": "ipython",
    "version": 3
   },
   "file_extension": ".py",
   "mimetype": "text/x-python",
   "name": "python",
   "nbconvert_exporter": "python",
   "pygments_lexer": "ipython3",
   "version": "3.6.5"
  }
 },
 "nbformat": 4,
 "nbformat_minor": 2
}
